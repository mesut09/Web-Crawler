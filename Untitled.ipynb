{
 "cells": [
  {
   "cell_type": "code",
   "execution_count": 1,
   "id": "fe4562d6-d117-44aa-8835-0dc9ccb00d3b",
   "metadata": {},
   "outputs": [],
   "source": [
    "import requests as req\n",
    "import json\n",
    "import sys\n",
    "import pandas as pd"
   ]
  },
  {
   "cell_type": "code",
   "execution_count": 2,
   "id": "d9ca6a4a-5689-4174-8aaa-05afafd8912a",
   "metadata": {},
   "outputs": [],
   "source": [
    "BaseURL = \"https://www.mackolik.com/perform/p0/ajax/components/competition/livescores/json?sports[]=Basketball&matchDate=\"\n"
   ]
  },
  {
   "cell_type": "code",
   "execution_count": 3,
   "id": "07302a39-f0f4-423b-97e1-97edaff97ad0",
   "metadata": {},
   "outputs": [],
   "source": [
    "jsons= []"
   ]
  },
  {
   "cell_type": "code",
   "execution_count": null,
   "id": "dbf5d87d-9e10-4677-ad56-847159a001ef",
   "metadata": {},
   "outputs": [
    {
     "name": "stdout",
     "output_type": "stream",
     "text": [
      "01. Ay tamamlandı.\n",
      "02. Ay tamamlandı.\n",
      "03. Ay tamamlandı.\n",
      "04. Ay tamamlandı.\n",
      "05. Ay tamamlandı.\n",
      "06. Ay tamamlandı.\n",
      "07. Ay tamamlandı.\n",
      "08. Ay tamamlandı.\n",
      "09. Ay tamamlandı.\n",
      "10. Ay tamamlandı.\n",
      "11. Ay tamamlandı.\n",
      "12. Ay tamamlandı.\n",
      "2018. Yıl tamamlandı\n",
      "01. Ay tamamlandı.\n",
      "02. Ay tamamlandı.\n",
      "03. Ay tamamlandı.\n",
      "04. Ay tamamlandı.\n",
      "05. Ay tamamlandı.\n",
      "06. Ay tamamlandı.\n",
      "07. Ay tamamlandı.\n",
      "08. Ay tamamlandı.\n",
      "09. Ay tamamlandı.\n",
      "10. Ay tamamlandı.\n"
     ]
    }
   ],
   "source": [
    "for Date in range(2018,2022,1):\n",
    "    for Month in range(1,13,1):\n",
    "        for Day in range(1,32,1):\n",
    "            Day = str(Day)\n",
    "            Month = str(Month)\n",
    "            Date = str(Date)\n",
    "            if len(Day) != 2:\n",
    "                Day = \"0\"+Day\n",
    "            if len(Month) != 2:\n",
    "                Month = \"0\"+Month\n",
    "            MyDate = Date+\"-\"+Month+\"-\"+Day\n",
    "            Resp = req.get(BaseURL+MyDate)\n",
    "            MyJson = json.loads(Resp.content)\n",
    "            jsons.append(MyJson)\n",
    "            if(Day == 15):\n",
    "                print(str(Day)+\". Gün Tamamlandı\")\n",
    "        print(str(Month)+\". Ay tamamlandı.\")\n",
    "    print(str(Date)+\". Yıl tamamlandı\")"
   ]
  },
  {
   "cell_type": "code",
   "execution_count": null,
   "id": "1e9d488d-6d5b-4b27-8346-bd3b044f2e79",
   "metadata": {},
   "outputs": [],
   "source": [
    "neededdata=[]\n",
    "for i in jsons:\n",
    "    try:\n",
    "        mathces = i[\"data\"][\"matches\"].values()\n",
    "        neededdata.append(mathces)  \n",
    "    except:\n",
    "        mathces = i[\"data\"][\"matches\"]\n",
    "        neededdata.append(mathces)"
   ]
  },
  {
   "cell_type": "code",
   "execution_count": null,
   "id": "d45c015d-e819-40ad-94ae-c1c958875651",
   "metadata": {},
   "outputs": [],
   "source": [
    "   \n",
    "teams1 = []\n",
    "teams2 = []\n",
    "macdurums=[]\n",
    "sonuclar1 = []\n",
    "sonuclar2 = []\n",
    "bilgiler = []\n",
    "for i in neededdata:\n",
    "  i = pd.DataFrame(i)\n",
    "  for sayac in range(0,len(i.index)):\n",
    "      isimler=i.loc[sayac][\"matchName\"].replace(\"vs\",\",\").split(\",\")\n",
    "      team1 = isimler[0]\n",
    "      team2 = isimler[1]\n",
    "      sonuc1 = i.loc[sayac][\"score\"][\"home\"]\n",
    "      sonuc2 = i.loc[sayac][\"score\"][\"away\"]\n",
    "      \n",
    "      macdurum = i.loc[sayac][\"substate\"]\n",
    "      \n",
    "      sonuclar1.append(sonuc1)\n",
    "      sonuclar2.append(sonuc2)\n",
    "      teams1.append(team1)\n",
    "      teams2.append(team2)\n",
    "\n",
    "      macdurums.append(macdurum)"
   ]
  },
  {
   "cell_type": "code",
   "execution_count": null,
   "id": "d2d0b3b7-bff5-4e73-9bf9-fe7a894b0e82",
   "metadata": {},
   "outputs": [],
   "source": [
    "X = pd.DataFrame(columns=[\"Takım1\",\"Takım2\",\"macdurum\"])\n",
    "y = pd.DataFrame(columns=[\"Home\",\"Away\"])"
   ]
  }
 ],
 "metadata": {
  "kernelspec": {
   "display_name": "Python 3",
   "language": "python",
   "name": "python3"
  },
  "language_info": {
   "codemirror_mode": {
    "name": "ipython",
    "version": 3
   },
   "file_extension": ".py",
   "mimetype": "text/x-python",
   "name": "python",
   "nbconvert_exporter": "python",
   "pygments_lexer": "ipython3",
   "version": "3.8.8"
  }
 },
 "nbformat": 4,
 "nbformat_minor": 5
}
